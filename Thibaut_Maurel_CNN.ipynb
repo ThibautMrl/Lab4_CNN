{
 "cells": [
  {
   "cell_type": "markdown",
   "source": [
    "# I. First step : Simple Convolutionnal Neural Network (CNN)"
   ],
   "metadata": {
    "collapsed": false
   }
  },
  {
   "cell_type": "markdown",
   "source": [
    "## On MNIST"
   ],
   "metadata": {
    "collapsed": false
   }
  },
  {
   "cell_type": "markdown",
   "source": [
    "### Import the library"
   ],
   "metadata": {
    "collapsed": false
   }
  },
  {
   "cell_type": "code",
   "execution_count": 58,
   "outputs": [],
   "source": [
    "import numpy as np\n",
    "import matplotlib.pyplot as plt\n",
    "import torch\n",
    "from torchvision import datasets\n",
    "from torchvision.transforms import ToTensor"
   ],
   "metadata": {
    "collapsed": false
   }
  },
  {
   "cell_type": "markdown",
   "source": [
    "### Collecting the data"
   ],
   "metadata": {
    "collapsed": false
   }
  },
  {
   "cell_type": "code",
   "execution_count": 59,
   "outputs": [],
   "source": [
    "from torchvision import transforms\n",
    "transform = transforms.Compose([transforms.ToTensor(),\n",
    "                              transforms.Normalize((0.5,), (0.5,)),\n",
    "                              ])\n",
    "train_data = datasets.MNIST(\n",
    "    root = 'data',\n",
    "    train = True,\n",
    "    transform = transform,\n",
    "    download = True,\n",
    ")\n",
    "test_data = datasets.MNIST(\n",
    "    root = 'data',\n",
    "    train = False,\n",
    "    transform = transform\n",
    ")"
   ],
   "metadata": {
    "collapsed": false
   }
  },
  {
   "cell_type": "code",
   "execution_count": 60,
   "outputs": [
    {
     "name": "stdout",
     "output_type": "stream",
     "text": [
      "shape of train data :  torch.Size([60000, 28, 28])\n",
      "shape of test data :  torch.Size([10000, 28, 28])\n",
      "shape of train labels :  torch.Size([60000])\n"
     ]
    }
   ],
   "source": [
    "print(\"shape of train data : \" , train_data.data.size())\n",
    "print(\"shape of test data : \" , test_data.data.size())\n",
    "print(\"shape of train labels : \" , train_data.targets.size())"
   ],
   "metadata": {
    "collapsed": false
   }
  },
  {
   "cell_type": "markdown",
   "source": [
    "### Preprocessing"
   ],
   "metadata": {
    "collapsed": false
   }
  },
  {
   "cell_type": "code",
   "execution_count": 61,
   "outputs": [
    {
     "data": {
      "text/plain": "{'train': <torch.utils.data.dataloader.DataLoader at 0x1763efa90>,\n 'test': <torch.utils.data.dataloader.DataLoader at 0x1763ef790>}"
     },
     "execution_count": 61,
     "metadata": {},
     "output_type": "execute_result"
    }
   ],
   "source": [
    "from torch.utils.data import DataLoader\n",
    "\n",
    "loaders = {\n",
    "    'train' : DataLoader(train_data,\n",
    "                         batch_size=128,\n",
    "                         shuffle=True,\n",
    "                         num_workers=1),\n",
    "\n",
    "    'test'  : DataLoader(test_data,\n",
    "                         batch_size=128,\n",
    "                         shuffle=True,\n",
    "                         num_workers=1),\n",
    "}\n",
    "loaders"
   ],
   "metadata": {
    "collapsed": false
   }
  },
  {
   "cell_type": "code",
   "execution_count": 62,
   "outputs": [
    {
     "name": "stdout",
     "output_type": "stream",
     "text": [
      "tensor(5)\n"
     ]
    },
    {
     "data": {
      "text/plain": "<Figure size 640x480 with 1 Axes>",
      "image/png": "[encoded data removed]"
     },
     "metadata": {},
     "output_type": "display_data"
    }
   ],
   "source": [
    "plt.imshow(train_data.data[100],cmap='gray')\n",
    "print(train_data.targets[100])"
   ],
   "metadata": {
    "collapsed": false
   }
  },
  {
   "cell_type": "markdown",
   "source": [
    "### Building the network"
   ],
   "metadata": {
    "collapsed": false
   }
  },
  {
   "cell_type": "code",
   "execution_count": 63,
   "outputs": [],
   "source": [
    "import torch.nn as nn\n",
    "from torch.nn import Sequential,Conv2d,AvgPool2d,Flatten,Linear,Sigmoid"
   ],
   "metadata": {
    "collapsed": false
   }
  },
  {
   "cell_type": "code",
   "execution_count": 64,
   "outputs": [],
   "source": [
    "nb_epoch = 20\n",
    "\n",
    "#Define the model Sequential\n",
    "\n",
    "model = Sequential(\n",
    "    Conv2d(in_channels = 1,out_channels = 6,kernel_size = (5,5),padding = 2),\n",
    "    Sigmoid(),\n",
    "    AvgPool2d(kernel_size = (2,2),stride = 2),\n",
    "    Conv2d(in_channels = 6,out_channels = 16,kernel_size = (5,5)),\n",
    "    Sigmoid(),\n",
    "    AvgPool2d(kernel_size = (2,2),stride = 2),\n",
    "    Flatten(),\n",
    "    Linear(16*5*5,120),\n",
    "    Sigmoid(),\n",
    "    Linear(120,84),\n",
    "    Sigmoid(),\n",
    "    Linear(84,10)\n",
    ")"
   ],
   "metadata": {
    "collapsed": false
   }
  },
  {
   "cell_type": "code",
   "execution_count": 65,
   "outputs": [
    {
     "name": "stdout",
     "output_type": "stream",
     "text": [
      "Sequential(\n",
      "  (0): Conv2d(1, 6, kernel_size=(5, 5), stride=(1, 1), padding=(2, 2))\n",
      "  (1): Sigmoid()\n",
      "  (2): AvgPool2d(kernel_size=(2, 2), stride=2, padding=0)\n",
      "  (3): Conv2d(6, 16, kernel_size=(5, 5), stride=(1, 1))\n",
      "  (4): Sigmoid()\n",
      "  (5): AvgPool2d(kernel_size=(2, 2), stride=2, padding=0)\n",
      "  (6): Flatten(start_dim=1, end_dim=-1)\n",
      "  (7): Linear(in_features=400, out_features=120, bias=True)\n",
      "  (8): Sigmoid()\n",
      "  (9): Linear(in_features=120, out_features=84, bias=True)\n",
      "  (10): Sigmoid()\n",
      "  (11): Linear(in_features=84, out_features=10, bias=True)\n",
      ")\n"
     ]
    }
   ],
   "source": [
    "from torchvision import models\n",
    "from torchsummary import summary\n",
    "print(model)"
   ],
   "metadata": {
    "collapsed": false
   }
  },
  {
   "cell_type": "code",
   "execution_count": 66,
   "outputs": [
    {
     "name": "stdout",
     "output_type": "stream",
     "text": [
      "----------------------------------------------------------------\n",
      "        Layer (type)               Output Shape         Param #\n",
      "================================================================\n",
      "            Conv2d-1            [-1, 6, 28, 28]             156\n",
      "           Sigmoid-2            [-1, 6, 28, 28]               0\n",
      "         AvgPool2d-3            [-1, 6, 14, 14]               0\n",
      "            Conv2d-4           [-1, 16, 10, 10]           2,416\n",
      "           Sigmoid-5           [-1, 16, 10, 10]               0\n",
      "         AvgPool2d-6             [-1, 16, 5, 5]               0\n",
      "           Flatten-7                  [-1, 400]               0\n",
      "            Linear-8                  [-1, 120]          48,120\n",
      "           Sigmoid-9                  [-1, 120]               0\n",
      "           Linear-10                   [-1, 84]          10,164\n",
      "          Sigmoid-11                   [-1, 84]               0\n",
      "           Linear-12                   [-1, 10]             850\n",
      "================================================================\n",
      "Total params: 61,706\n",
      "Trainable params: 61,706\n",
      "Non-trainable params: 0\n",
      "----------------------------------------------------------------\n",
      "Input size (MB): 0.00\n",
      "Forward/backward pass size (MB): 0.11\n",
      "Params size (MB): 0.24\n",
      "Estimated Total Size (MB): 0.35\n",
      "----------------------------------------------------------------\n"
     ]
    }
   ],
   "source": [
    "summary(model,(1,28,28))"
   ],
   "metadata": {
    "collapsed": false
   }
  },
  {
   "cell_type": "code",
   "execution_count": 67,
   "outputs": [],
   "source": [
    "import torch.optim as optim\n",
    "\n",
    "#Define Loss function and Optimizer :\n",
    "criterion = nn.CrossEntropyLoss()\n",
    "optimizer = optim.Adam(model.parameters())"
   ],
   "metadata": {
    "collapsed": false
   }
  },
  {
   "cell_type": "code",
   "execution_count": 68,
   "outputs": [
    {
     "name": "stdout",
     "output_type": "stream",
     "text": [
      "tensor([[-0.0122, -0.0787, -0.6686,  ...,  0.3027,  0.4691, -0.0362],\n",
      "        [-0.0120, -0.0787, -0.6687,  ...,  0.3029,  0.4690, -0.0364],\n",
      "        [-0.0123, -0.0787, -0.6687,  ...,  0.3025,  0.4689, -0.0363],\n",
      "        ...,\n",
      "        [-0.0121, -0.0787, -0.6687,  ...,  0.3027,  0.4691, -0.0361],\n",
      "        [-0.0121, -0.0785, -0.6687,  ...,  0.3029,  0.4692, -0.0363],\n",
      "        [-0.0122, -0.0787, -0.6687,  ...,  0.3027,  0.4691, -0.0362]],\n",
      "       grad_fn=<AddmmBackward0>)\n",
      "tensor([8, 5, 3, 7, 2, 5, 7, 5, 1, 3, 5, 7, 7, 8, 4, 7, 7, 6, 1, 5, 4, 2, 1, 7,\n",
      "        3, 8, 7, 4, 8, 8, 3, 4, 1, 6, 0, 2, 7, 9, 5, 0, 2, 5, 6, 8, 5, 0, 5, 6,\n",
      "        5, 6, 2, 8, 3, 8, 2, 1, 7, 5, 4, 0, 6, 0, 6, 0, 2, 6, 1, 6, 8, 3, 8, 0,\n",
      "        7, 5, 1, 7, 8, 8, 8, 9, 2, 4, 5, 2, 4, 3, 2, 9, 5, 5, 1, 4, 6, 9, 6, 8,\n",
      "        6, 0, 6, 8, 8, 5, 0, 6, 0, 6, 0, 4, 2, 3, 7, 8, 3, 3, 9, 2, 1, 5, 2, 0,\n",
      "        2, 0, 9, 1, 3, 4, 7, 3])\n",
      "torch.Size([128, 10])\n",
      "torch.Size([128])\n"
     ]
    },
    {
     "ename": "IndexError",
     "evalue": "too many indices for tensor of dimension 1",
     "output_type": "error",
     "traceback": [
      "\u001B[0;31m---------------------------------------------------------------------------\u001B[0m",
      "\u001B[0;31mIndexError\u001B[0m                                Traceback (most recent call last)",
      "Cell \u001B[0;32mIn[68], line 34\u001B[0m\n\u001B[1;32m     32\u001B[0m     \u001B[38;5;28mprint\u001B[39m(\u001B[38;5;124m'\u001B[39m\u001B[38;5;124mFinished Training\u001B[39m\u001B[38;5;124m'\u001B[39m)\n\u001B[1;32m     33\u001B[0m     \u001B[38;5;28;01mreturn\u001B[39;00m loss_value\n\u001B[0;32m---> 34\u001B[0m loss_value  \u001B[38;5;241m=\u001B[39m \u001B[43mtrain\u001B[49m\u001B[43m(\u001B[49m\u001B[43mnb_epoch\u001B[49m\u001B[43m,\u001B[49m\u001B[43mmodel\u001B[49m\u001B[43m,\u001B[49m\u001B[43m \u001B[49m\u001B[43mloaders\u001B[49m\u001B[43m)\u001B[49m\n",
      "Cell \u001B[0;32mIn[68], line 22\u001B[0m, in \u001B[0;36mtrain\u001B[0;34m(num_epochs, cnn, loaders)\u001B[0m\n\u001B[1;32m     20\u001B[0m \u001B[38;5;28mprint\u001B[39m(outputs\u001B[38;5;241m.\u001B[39msize())\n\u001B[1;32m     21\u001B[0m \u001B[38;5;28mprint\u001B[39m(labels\u001B[38;5;241m.\u001B[39msize())\n\u001B[0;32m---> 22\u001B[0m loss \u001B[38;5;241m=\u001B[39m criterion(outputs, \u001B[43mlabels\u001B[49m\u001B[43m[\u001B[49m\u001B[43m:\u001B[49m\u001B[43m,\u001B[49m\u001B[38;5;241;43m0\u001B[39;49m\u001B[43m]\u001B[49m)\n\u001B[1;32m     23\u001B[0m loss\u001B[38;5;241m.\u001B[39mbackward()\n\u001B[1;32m     24\u001B[0m optimizer\u001B[38;5;241m.\u001B[39mstep()\n",
      "\u001B[0;31mIndexError\u001B[0m: too many indices for tensor of dimension 1"
     ]
    }
   ],
   "source": [
    "num_epochs = 20\n",
    "\n",
    "#Train the model:\n",
    "\n",
    "def train(num_epochs, cnn, loaders):\n",
    "    loss_value = np.zeros((20,2))\n",
    "    for epoch in range(num_epochs):  # loop over the dataset multiple times\n",
    "        running_loss = 0.0\n",
    "        for i, data in enumerate(loaders['train'], 0):\n",
    "            # get the inputs; data is a list of [inputs, labels]\n",
    "            inputs, labels = data\n",
    "\n",
    "            # zero the parameter gradients\n",
    "            optimizer.zero_grad()\n",
    "\n",
    "            # forward + backward + optimize\n",
    "            outputs = cnn(inputs)\n",
    "            print(outputs)\n",
    "            print(labels)\n",
    "            print(outputs.size())\n",
    "            print(labels.size())\n",
    "            loss = criterion(outputs, labels)\n",
    "            loss.backward()\n",
    "            optimizer.step()\n",
    "\n",
    "            # print statistics\n",
    "            running_loss += loss.item()\n",
    "            if (i+1) % 100 == 0:    # print every 100 mini-batches\n",
    "                print(f'[{epoch + 1}, {i + 1:5d}] loss: {running_loss / 100:.3f}')\n",
    "                running_loss = 0.0\n",
    "        loss_value[epoch] = [epoch,loss.item()]\n",
    "    print('Finished Training')\n",
    "    return loss_value\n",
    "loss_value  = train(nb_epoch,model, loaders)"
   ],
   "metadata": {
    "collapsed": false
   }
  },
  {
   "cell_type": "code",
   "execution_count": null,
   "outputs": [],
   "source": [
    "#Test the model:\n",
    "\n",
    "def test(cnn,loaders):\n",
    "    correct = 0\n",
    "    total = 0\n",
    "    # since we're not training, we don't need to calculate the gradients for our outputs\n",
    "    with torch.no_grad():\n",
    "        for data in loaders['test']:\n",
    "            images, labels = data\n",
    "            # calculate outputs by running images through the network\n",
    "            outputs = cnn(images)\n",
    "            # the class with the highest energy is what we choose as prediction\n",
    "            _, predicted = torch.max(outputs.data, 1)\n",
    "            total += labels.size(0)\n",
    "            print(labels.size(0))\n",
    "            correct += (predicted == labels).sum().item()\n",
    "\n",
    "    print(f'Accuracy of the network on the 10000 test images: {100 * correct / total} %')\n",
    "test(model,loaders)"
   ],
   "metadata": {
    "collapsed": false
   }
  },
  {
   "cell_type": "code",
   "execution_count": 69,
   "outputs": [
    {
     "data": {
      "text/plain": "<Figure size 640x480 with 1 Axes>",
      "image/png": "[encoded data removed]"
     },
     "metadata": {},
     "output_type": "display_data"
    }
   ],
   "source": [
    "#Plot the loss\n",
    "plt.plot(loss_value[:,0],loss_value[:,1])\n",
    "plt.xlabel(\"Epochs\")\n",
    "plt.ylabel(\"Crossentropy loss\")\n",
    "plt.show()"
   ],
   "metadata": {
    "collapsed": false
   }
  },
  {
   "cell_type": "markdown",
   "source": [
    "# II. Second step: Simple Convolutionnal Neural Network on more complex data."
   ],
   "metadata": {
    "collapsed": false
   },
   "execution_count": 179
  },
  {
   "cell_type": "markdown",
   "source": [
    "### Load the data"
   ],
   "metadata": {
    "collapsed": false
   }
  },
  {
   "cell_type": "code",
   "execution_count": 85,
   "outputs": [
    {
     "data": {
      "text/plain": "{'train': <torch.utils.data.dataloader.DataLoader at 0x15eeaaf40>,\n 'test': <torch.utils.data.dataloader.DataLoader at 0x177de97c0>}"
     },
     "execution_count": 85,
     "metadata": {},
     "output_type": "execute_result"
    }
   ],
   "source": [
    "from torch.utils.data import TensorDataset\n",
    "\n",
    "xTrain=np.load('./pathmnist/train_images.npy')\n",
    "xTest=np.load('./pathmnist/test_images.npy')\n",
    "yTrain=np.load('./pathmnist/train_labels.npy')\n",
    "yTest=np.load('./pathmnist/test_labels.npy')\n",
    "\n",
    "xTrain = torch.Tensor(xTrain)# transform to torch tensor\n",
    "yTrain = torch.LongTensor(yTrain)\n",
    "xTest = torch.Tensor(xTest)\n",
    "yTest = torch.LongTensor(yTest)\n",
    "\n",
    "#Change the size (:,28,28,3) to (:,3,28,28)\n",
    "xTrain = xTrain.permute(0, 3, 1, 2)\n",
    "xTest = xTest.permute(0, 3, 1, 2)\n",
    "\n",
    "train_dataset = TensorDataset(xTrain,yTrain) # create your datset\n",
    "test_dataset = TensorDataset(xTest,yTest)\n",
    "\n",
    "loaders = {\n",
    "    'train' : DataLoader(train_dataset,\n",
    "                         batch_size=64,\n",
    "                         shuffle=100,\n",
    "                         num_workers=1),\n",
    "\n",
    "    'test'  : DataLoader(test_dataset,\n",
    "                         batch_size=64,\n",
    "                         shuffle=100,\n",
    "                         num_workers=1),\n",
    "}\n",
    "loaders\n"
   ],
   "metadata": {
    "collapsed": false
   }
  },
  {
   "cell_type": "markdown",
   "source": [
    "### Building the network"
   ],
   "metadata": {
    "collapsed": false
   }
  },
  {
   "cell_type": "code",
   "execution_count": 86,
   "outputs": [],
   "source": [
    "from torch import sigmoid,flatten\n",
    "\n",
    "class Net(nn.Module):\n",
    "    def __init__(self):\n",
    "        super().__init__()\n",
    "        self.conv1 = Conv2d(in_channels = 3,out_channels = 6,kernel_size = (5,5),padding = 2)\n",
    "        self.pool = AvgPool2d(kernel_size = (2,2),stride = 2)\n",
    "        self.conv2 = Conv2d(in_channels = 6,out_channels = 16,kernel_size = (5,5))\n",
    "        self.fc1 = Linear(16 * 5 * 5, 120)\n",
    "        self.fc2 = Linear(120, 84)\n",
    "        self.fc3 = Linear(84, 9)\n",
    "\n",
    "    def forward(self, x):\n",
    "        x = self.pool(sigmoid(self.conv1(x)))\n",
    "        x = self.pool(sigmoid(self.conv2(x)))\n",
    "        x = flatten(x,1) # flatten all dimensions except batch\n",
    "        x = sigmoid(self.fc1(x))\n",
    "        x = sigmoid(self.fc2(x))\n",
    "        x = self.fc3(x)\n",
    "        return x\n",
    "\n",
    "model = Net()"
   ],
   "metadata": {
    "collapsed": false
   }
  },
  {
   "cell_type": "code",
   "execution_count": 87,
   "outputs": [
    {
     "name": "stdout",
     "output_type": "stream",
     "text": [
      "Net(\n",
      "  (conv1): Conv2d(3, 6, kernel_size=(5, 5), stride=(1, 1), padding=(2, 2))\n",
      "  (pool): AvgPool2d(kernel_size=(2, 2), stride=2, padding=0)\n",
      "  (conv2): Conv2d(6, 16, kernel_size=(5, 5), stride=(1, 1))\n",
      "  (fc1): Linear(in_features=400, out_features=120, bias=True)\n",
      "  (fc2): Linear(in_features=120, out_features=84, bias=True)\n",
      "  (fc3): Linear(in_features=84, out_features=9, bias=True)\n",
      ")\n"
     ]
    }
   ],
   "source": [
    "print(model)"
   ],
   "metadata": {
    "collapsed": false
   }
  },
  {
   "cell_type": "code",
   "execution_count": 88,
   "outputs": [
    {
     "name": "stdout",
     "output_type": "stream",
     "text": [
      "----------------------------------------------------------------\n",
      "        Layer (type)               Output Shape         Param #\n",
      "================================================================\n",
      "            Conv2d-1            [-1, 6, 28, 28]             456\n",
      "         AvgPool2d-2            [-1, 6, 14, 14]               0\n",
      "            Conv2d-3           [-1, 16, 10, 10]           2,416\n",
      "         AvgPool2d-4             [-1, 16, 5, 5]               0\n",
      "            Linear-5                  [-1, 120]          48,120\n",
      "            Linear-6                   [-1, 84]          10,164\n",
      "            Linear-7                    [-1, 9]             765\n",
      "================================================================\n",
      "Total params: 61,921\n",
      "Trainable params: 61,921\n",
      "Non-trainable params: 0\n",
      "----------------------------------------------------------------\n",
      "Input size (MB): 0.01\n",
      "Forward/backward pass size (MB): 0.06\n",
      "Params size (MB): 0.24\n",
      "Estimated Total Size (MB): 0.31\n",
      "----------------------------------------------------------------\n"
     ]
    }
   ],
   "source": [
    "summary(model,(3,28,28))"
   ],
   "metadata": {
    "collapsed": false
   }
  },
  {
   "cell_type": "code",
   "execution_count": 89,
   "outputs": [
    {
     "name": "stdout",
     "output_type": "stream",
     "text": [
      "[1,   100] loss: 2.248\n",
      "[1,   200] loss: 2.245\n",
      "[1,   300] loss: 2.237\n",
      "[1,   400] loss: 2.239\n",
      "[1,   500] loss: 2.244\n",
      "[1,   600] loss: 2.237\n",
      "[1,   700] loss: 2.246\n",
      "[1,   800] loss: 2.233\n",
      "[1,   900] loss: 2.246\n",
      "[1,  1000] loss: 2.241\n",
      "[1,  1100] loss: 2.245\n",
      "[1,  1200] loss: 2.246\n",
      "[1,  1300] loss: 2.241\n",
      "[1,  1400] loss: 2.236\n",
      "[2,   100] loss: 2.236\n",
      "[2,   200] loss: 2.241\n",
      "[2,   300] loss: 2.238\n",
      "[2,   400] loss: 2.241\n",
      "[2,   500] loss: 2.241\n",
      "[2,   600] loss: 2.241\n",
      "[2,   700] loss: 2.246\n",
      "[2,   800] loss: 2.243\n",
      "[2,   900] loss: 2.247\n",
      "[2,  1000] loss: 2.243\n",
      "[2,  1100] loss: 2.245\n",
      "[2,  1200] loss: 2.240\n",
      "[2,  1300] loss: 2.244\n",
      "[2,  1400] loss: 2.237\n",
      "[3,   100] loss: 2.250\n",
      "[3,   200] loss: 2.238\n",
      "[3,   300] loss: 2.246\n",
      "[3,   400] loss: 2.242\n",
      "[3,   500] loss: 2.243\n",
      "[3,   600] loss: 2.238\n",
      "[3,   700] loss: 2.241\n",
      "[3,   800] loss: 2.243\n",
      "[3,   900] loss: 2.239\n",
      "[3,  1000] loss: 2.245\n",
      "[3,  1100] loss: 2.244\n",
      "[3,  1200] loss: 2.235\n",
      "[3,  1300] loss: 2.248\n",
      "[3,  1400] loss: 2.230\n",
      "[4,   100] loss: 2.250\n",
      "[4,   200] loss: 2.238\n",
      "[4,   300] loss: 2.248\n",
      "[4,   400] loss: 2.243\n",
      "[4,   500] loss: 2.241\n",
      "[4,   600] loss: 2.239\n",
      "[4,   700] loss: 2.245\n",
      "[4,   800] loss: 2.238\n",
      "[4,   900] loss: 2.249\n",
      "[4,  1000] loss: 2.239\n",
      "[4,  1100] loss: 2.243\n",
      "[4,  1200] loss: 2.241\n",
      "[4,  1300] loss: 2.234\n",
      "[4,  1400] loss: 2.237\n",
      "[5,   100] loss: 2.240\n",
      "[5,   200] loss: 2.239\n",
      "[5,   300] loss: 2.246\n",
      "[5,   400] loss: 2.243\n",
      "[5,   500] loss: 2.241\n",
      "[5,   600] loss: 2.239\n",
      "[5,   700] loss: 2.239\n",
      "[5,   800] loss: 2.240\n",
      "[5,   900] loss: 2.242\n",
      "[5,  1000] loss: 2.242\n",
      "[5,  1100] loss: 2.247\n",
      "[5,  1200] loss: 2.241\n",
      "[5,  1300] loss: 2.240\n",
      "[5,  1400] loss: 2.243\n",
      "[6,   100] loss: 2.243\n",
      "[6,   200] loss: 2.243\n",
      "[6,   300] loss: 2.241\n",
      "[6,   400] loss: 2.243\n",
      "[6,   500] loss: 2.241\n",
      "[6,   600] loss: 2.245\n",
      "[6,   700] loss: 2.240\n",
      "[6,   800] loss: 2.239\n",
      "[6,   900] loss: 2.244\n",
      "[6,  1000] loss: 2.240\n",
      "[6,  1100] loss: 2.241\n",
      "[6,  1200] loss: 2.238\n",
      "[6,  1300] loss: 2.245\n",
      "[6,  1400] loss: 2.242\n",
      "[7,   100] loss: 2.242\n",
      "[7,   200] loss: 2.247\n",
      "[7,   300] loss: 2.243\n",
      "[7,   400] loss: 2.238\n",
      "[7,   500] loss: 2.244\n",
      "[7,   600] loss: 2.245\n",
      "[7,   700] loss: 2.240\n",
      "[7,   800] loss: 2.247\n",
      "[7,   900] loss: 2.237\n",
      "[7,  1000] loss: 2.241\n",
      "[7,  1100] loss: 2.242\n",
      "[7,  1200] loss: 2.239\n",
      "[7,  1300] loss: 2.239\n",
      "[7,  1400] loss: 2.242\n",
      "[8,   100] loss: 2.236\n",
      "[8,   200] loss: 2.243\n",
      "[8,   300] loss: 2.241\n",
      "[8,   400] loss: 2.236\n",
      "[8,   500] loss: 2.240\n",
      "[8,   600] loss: 2.237\n",
      "[8,   700] loss: 2.239\n",
      "[8,   800] loss: 2.243\n",
      "[8,   900] loss: 2.248\n",
      "[8,  1000] loss: 2.243\n",
      "[8,  1100] loss: 2.242\n",
      "[8,  1200] loss: 2.240\n",
      "[8,  1300] loss: 2.248\n",
      "[8,  1400] loss: 2.245\n",
      "[9,   100] loss: 2.241\n",
      "[9,   200] loss: 2.247\n",
      "[9,   300] loss: 2.248\n",
      "[9,   400] loss: 2.237\n",
      "[9,   500] loss: 2.236\n",
      "[9,   600] loss: 2.244\n",
      "[9,   700] loss: 2.240\n",
      "[9,   800] loss: 2.240\n",
      "[9,   900] loss: 2.234\n",
      "[9,  1000] loss: 2.244\n",
      "[9,  1100] loss: 2.248\n",
      "[9,  1200] loss: 2.247\n",
      "[9,  1300] loss: 2.237\n",
      "[9,  1400] loss: 2.240\n",
      "[10,   100] loss: 2.249\n",
      "[10,   200] loss: 2.246\n",
      "[10,   300] loss: 2.243\n",
      "[10,   400] loss: 2.238\n",
      "[10,   500] loss: 2.242\n",
      "[10,   600] loss: 2.236\n",
      "[10,   700] loss: 2.241\n",
      "[10,   800] loss: 2.243\n",
      "[10,   900] loss: 2.246\n",
      "[10,  1000] loss: 2.236\n",
      "[10,  1100] loss: 2.240\n",
      "[10,  1200] loss: 2.237\n",
      "[10,  1300] loss: 2.237\n",
      "[10,  1400] loss: 2.249\n",
      "[11,   100] loss: 2.240\n",
      "[11,   200] loss: 2.241\n",
      "[11,   300] loss: 2.241\n",
      "[11,   400] loss: 2.236\n",
      "[11,   500] loss: 2.237\n",
      "[11,   600] loss: 2.246\n",
      "[11,   700] loss: 2.241\n",
      "[11,   800] loss: 2.242\n",
      "[11,   900] loss: 2.245\n",
      "[11,  1000] loss: 2.242\n",
      "[11,  1100] loss: 2.245\n",
      "[11,  1200] loss: 2.244\n",
      "[11,  1300] loss: 2.245\n",
      "[11,  1400] loss: 2.239\n",
      "[12,   100] loss: 2.241\n",
      "[12,   200] loss: 2.245\n",
      "[12,   300] loss: 2.238\n",
      "[12,   400] loss: 2.242\n",
      "[12,   500] loss: 2.244\n",
      "[12,   600] loss: 2.249\n",
      "[12,   700] loss: 2.239\n",
      "[12,   800] loss: 2.241\n",
      "[12,   900] loss: 2.235\n",
      "[12,  1000] loss: 2.244\n",
      "[12,  1100] loss: 2.243\n",
      "[12,  1200] loss: 2.243\n",
      "[12,  1300] loss: 2.237\n",
      "[12,  1400] loss: 2.239\n",
      "[13,   100] loss: 2.245\n",
      "[13,   200] loss: 2.246\n",
      "[13,   300] loss: 2.250\n",
      "[13,   400] loss: 2.244\n",
      "[13,   500] loss: 2.246\n",
      "[13,   600] loss: 2.242\n",
      "[13,   700] loss: 2.237\n",
      "[13,   800] loss: 2.232\n",
      "[13,   900] loss: 2.245\n",
      "[13,  1000] loss: 2.240\n",
      "[13,  1100] loss: 2.241\n",
      "[13,  1200] loss: 2.239\n",
      "[13,  1300] loss: 2.239\n",
      "[13,  1400] loss: 2.239\n",
      "[14,   100] loss: 2.246\n",
      "[14,   200] loss: 2.243\n",
      "[14,   300] loss: 2.240\n",
      "[14,   400] loss: 2.241\n",
      "[14,   500] loss: 2.241\n",
      "[14,   600] loss: 2.244\n",
      "[14,   700] loss: 2.237\n",
      "[14,   800] loss: 2.250\n",
      "[14,   900] loss: 2.243\n",
      "[14,  1000] loss: 2.242\n",
      "[14,  1100] loss: 2.240\n",
      "[14,  1200] loss: 2.242\n",
      "[14,  1300] loss: 2.238\n",
      "[14,  1400] loss: 2.238\n",
      "[15,   100] loss: 2.244\n",
      "[15,   200] loss: 2.242\n",
      "[15,   300] loss: 2.240\n",
      "[15,   400] loss: 2.238\n",
      "[15,   500] loss: 2.244\n",
      "[15,   600] loss: 2.240\n",
      "[15,   700] loss: 2.241\n",
      "[15,   800] loss: 2.240\n",
      "[15,   900] loss: 2.239\n",
      "[15,  1000] loss: 2.245\n",
      "[15,  1100] loss: 2.245\n",
      "[15,  1200] loss: 2.245\n",
      "[15,  1300] loss: 2.241\n",
      "[15,  1400] loss: 2.242\n",
      "[16,   100] loss: 2.234\n",
      "[16,   200] loss: 2.244\n",
      "[16,   300] loss: 2.237\n",
      "[16,   400] loss: 2.242\n",
      "[16,   500] loss: 2.243\n",
      "[16,   600] loss: 2.241\n",
      "[16,   700] loss: 2.241\n",
      "[16,   800] loss: 2.238\n",
      "[16,   900] loss: 2.245\n",
      "[16,  1000] loss: 2.248\n",
      "[16,  1100] loss: 2.247\n",
      "[16,  1200] loss: 2.238\n",
      "[16,  1300] loss: 2.241\n",
      "[16,  1400] loss: 2.246\n",
      "[17,   100] loss: 2.238\n",
      "[17,   200] loss: 2.242\n",
      "[17,   300] loss: 2.242\n",
      "[17,   400] loss: 2.242\n",
      "[17,   500] loss: 2.245\n",
      "[17,   600] loss: 2.241\n",
      "[17,   700] loss: 2.245\n",
      "[17,   800] loss: 2.244\n",
      "[17,   900] loss: 2.245\n",
      "[17,  1000] loss: 2.240\n",
      "[17,  1100] loss: 2.240\n",
      "[17,  1200] loss: 2.241\n",
      "[17,  1300] loss: 2.242\n",
      "[17,  1400] loss: 2.238\n",
      "[18,   100] loss: 2.240\n",
      "[18,   200] loss: 2.244\n",
      "[18,   300] loss: 2.240\n",
      "[18,   400] loss: 2.244\n",
      "[18,   500] loss: 2.241\n",
      "[18,   600] loss: 2.237\n",
      "[18,   700] loss: 2.240\n",
      "[18,   800] loss: 2.245\n",
      "[18,   900] loss: 2.245\n",
      "[18,  1000] loss: 2.241\n",
      "[18,  1100] loss: 2.236\n",
      "[18,  1200] loss: 2.236\n",
      "[18,  1300] loss: 2.248\n",
      "[18,  1400] loss: 2.245\n",
      "[19,   100] loss: 2.243\n",
      "[19,   200] loss: 2.241\n",
      "[19,   300] loss: 2.238\n",
      "[19,   400] loss: 2.249\n",
      "[19,   500] loss: 2.239\n",
      "[19,   600] loss: 2.234\n",
      "[19,   700] loss: 2.248\n",
      "[19,   800] loss: 2.244\n",
      "[19,   900] loss: 2.242\n",
      "[19,  1000] loss: 2.244\n",
      "[19,  1100] loss: 2.244\n",
      "[19,  1200] loss: 2.244\n",
      "[19,  1300] loss: 2.235\n",
      "[19,  1400] loss: 2.241\n",
      "[20,   100] loss: 2.250\n",
      "[20,   200] loss: 2.245\n",
      "[20,   300] loss: 2.242\n",
      "[20,   400] loss: 2.237\n",
      "[20,   500] loss: 2.238\n",
      "[20,   600] loss: 2.240\n",
      "[20,   700] loss: 2.239\n",
      "[20,   800] loss: 2.242\n",
      "[20,   900] loss: 2.240\n",
      "[20,  1000] loss: 2.244\n",
      "[20,  1100] loss: 2.239\n",
      "[20,  1200] loss: 2.239\n",
      "[20,  1300] loss: 2.243\n",
      "[20,  1400] loss: 2.248\n",
      "Finished Training\n",
      "Accuracy of the network on the 10000 test images: 1192.6462395543176 %\n"
     ]
    }
   ],
   "source": [
    "def train(num_epochs, cnn, loaders):\n",
    "    loss_value = np.zeros((20,2))\n",
    "    for epoch in range(num_epochs):  # loop over the dataset multiple times\n",
    "        running_loss = 0.0\n",
    "        for i, data in enumerate(loaders['train'], 0):\n",
    "            # get the inputs; data is a list of [inputs, labels]\n",
    "            inputs, labels = data\n",
    "\n",
    "            # zero the parameter gradients\n",
    "            optimizer.zero_grad()\n",
    "\n",
    "            # forward + backward + optimize\n",
    "            outputs = cnn(inputs)\n",
    "            loss = criterion(outputs, labels[:,0])\n",
    "            loss.backward()\n",
    "            optimizer.step()\n",
    "\n",
    "            # print statistics\n",
    "            running_loss += loss.item()\n",
    "            if (i+1) % 100 == 0:    # print every 100 mini-batches\n",
    "                print(f'[{epoch + 1}, {i + 1:5d}] loss: {running_loss / 100:.3f}')\n",
    "                running_loss = 0.0\n",
    "        loss_value[epoch] = [epoch,loss.item()]\n",
    "    print('Finished Training')\n",
    "    return loss_value\n",
    "\n",
    "loss_value  = train(nb_epoch,model,loaders)"
   ],
   "metadata": {
    "collapsed": false
   }
  },
  {
   "cell_type": "code",
   "execution_count": 92,
   "outputs": [
    {
     "name": "stdout",
     "output_type": "stream",
     "text": [
      "64\n",
      "960\n",
      "64\n",
      "704\n",
      "64\n",
      "768\n",
      "64\n",
      "896\n",
      "64\n",
      "832\n",
      "64\n",
      "704\n",
      "64\n",
      "1088\n",
      "64\n",
      "768\n",
      "64\n",
      "512\n",
      "64\n",
      "704\n",
      "64\n",
      "896\n",
      "64\n",
      "832\n",
      "64\n",
      "384\n",
      "64\n",
      "384\n",
      "64\n",
      "896\n",
      "64\n",
      "576\n",
      "64\n",
      "768\n",
      "64\n",
      "960\n",
      "64\n",
      "768\n",
      "64\n",
      "896\n",
      "64\n",
      "832\n",
      "64\n",
      "512\n",
      "64\n",
      "1280\n",
      "64\n",
      "576\n",
      "64\n",
      "640\n",
      "64\n",
      "704\n",
      "64\n",
      "704\n",
      "64\n",
      "896\n",
      "64\n",
      "640\n",
      "64\n",
      "832\n",
      "64\n",
      "960\n",
      "64\n",
      "896\n",
      "64\n",
      "576\n",
      "64\n",
      "448\n",
      "64\n",
      "576\n",
      "64\n",
      "640\n",
      "64\n",
      "640\n",
      "64\n",
      "512\n",
      "64\n",
      "704\n",
      "64\n",
      "960\n",
      "64\n",
      "576\n",
      "64\n",
      "704\n",
      "64\n",
      "960\n",
      "64\n",
      "960\n",
      "64\n",
      "960\n",
      "64\n",
      "576\n",
      "64\n",
      "704\n",
      "64\n",
      "768\n",
      "64\n",
      "640\n",
      "64\n",
      "896\n",
      "64\n",
      "704\n",
      "64\n",
      "576\n",
      "64\n",
      "320\n",
      "64\n",
      "1088\n",
      "64\n",
      "576\n",
      "64\n",
      "512\n",
      "64\n",
      "1152\n",
      "64\n",
      "704\n",
      "64\n",
      "704\n",
      "64\n",
      "1216\n",
      "64\n",
      "1280\n",
      "64\n",
      "704\n",
      "64\n",
      "512\n",
      "64\n",
      "448\n",
      "64\n",
      "1216\n",
      "64\n",
      "768\n",
      "64\n",
      "576\n",
      "64\n",
      "832\n",
      "64\n",
      "768\n",
      "64\n",
      "704\n",
      "64\n",
      "512\n",
      "64\n",
      "960\n",
      "64\n",
      "1024\n",
      "64\n",
      "768\n",
      "64\n",
      "704\n",
      "64\n",
      "576\n",
      "64\n",
      "960\n",
      "64\n",
      "832\n",
      "64\n",
      "640\n",
      "64\n",
      "896\n",
      "64\n",
      "768\n",
      "64\n",
      "896\n",
      "64\n",
      "576\n",
      "64\n",
      "896\n",
      "64\n",
      "768\n",
      "64\n",
      "768\n",
      "64\n",
      "1024\n",
      "64\n",
      "832\n",
      "64\n",
      "640\n",
      "64\n",
      "512\n",
      "64\n",
      "768\n",
      "64\n",
      "1024\n",
      "64\n",
      "768\n",
      "64\n",
      "896\n",
      "64\n",
      "576\n",
      "64\n",
      "768\n",
      "64\n",
      "768\n",
      "64\n",
      "832\n",
      "64\n",
      "960\n",
      "64\n",
      "640\n",
      "64\n",
      "832\n",
      "64\n",
      "320\n",
      "64\n",
      "832\n",
      "64\n",
      "896\n",
      "64\n",
      "640\n",
      "64\n",
      "768\n",
      "64\n",
      "896\n",
      "64\n",
      "832\n",
      "64\n",
      "896\n",
      "64\n",
      "704\n",
      "64\n",
      "960\n",
      "64\n",
      "512\n",
      "12\n",
      "12\n",
      "85580\n",
      "7180\n",
      "Accuracy of the network on the 10000 test images: 1191.9220055710307 %\n"
     ]
    }
   ],
   "source": [
    "def test(cnn,loaders):\n",
    "    correct = 0\n",
    "    total = 0\n",
    "    # since we're not training, we don't need to calculate the gradients for our outputs\n",
    "    with torch.no_grad():\n",
    "        for data in loaders['test']:\n",
    "            images, labels = data\n",
    "            # calculate outputs by running images through the network\n",
    "            outputs = cnn(images)\n",
    "            # the class with the highest energy is what we choose as prediction\n",
    "            _, predicted = torch.max(outputs.data, 1)\n",
    "            total += labels.size(0)\n",
    "            print(labels.size(0))\n",
    "            print((predicted == labels).sum().item())\n",
    "            correct += (predicted == labels).sum().item()\n",
    "    print(correct)\n",
    "    print(total)\n",
    "    print(f'Accuracy of the network on the 10000 test images: {100 * correct / total} %')\n",
    "\n",
    "test(model,loaders)"
   ],
   "metadata": {
    "collapsed": false
   }
  },
  {
   "cell_type": "code",
   "execution_count": null,
   "outputs": [],
   "source": [
    "#Plot the loss\n",
    "plt.plot(loss_value[:,0],loss_value[:,1])\n",
    "plt.xlabel(\"Epochs\")\n",
    "plt.ylabel(\"Crossentropy loss\")\n",
    "plt.show()"
   ],
   "metadata": {
    "collapsed": false
   }
  }
 ],
 "metadata": {
  "kernelspec": {
   "display_name": "Python 3",
   "language": "python",
   "name": "python3"
  },
  "language_info": {
   "codemirror_mode": {
    "name": "ipython",
    "version": 2
   },
   "file_extension": ".py",
   "mimetype": "text/x-python",
   "name": "python",
   "nbconvert_exporter": "python",
   "pygments_lexer": "ipython2",
   "version": "2.7.6"
  }
 },
 "nbformat": 4,
 "nbformat_minor": 0
}
