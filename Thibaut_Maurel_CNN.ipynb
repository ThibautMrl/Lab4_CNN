{
 "cells": [
  {
   "cell_type": "markdown",
   "source": [
    "# I. First step : Simple Convolutionnal Neural Network (CNN)"
   ],
   "metadata": {
    "collapsed": false
   }
  },
  {
   "cell_type": "markdown",
   "source": [
    "## On MNIST"
   ],
   "metadata": {
    "collapsed": false
   }
  },
  {
   "cell_type": "markdown",
   "source": [
    "### Import the library"
   ],
   "metadata": {
    "collapsed": false
   }
  },
  {
   "cell_type": "code",
   "execution_count": 167,
   "outputs": [],
   "source": [
    "import numpy as np\n",
    "import matplotlib.pyplot as plt\n",
    "import torch\n",
    "from torchvision import datasets\n",
    "from torchvision.transforms import ToTensor"
   ],
   "metadata": {
    "collapsed": false
   }
  },
  {
   "cell_type": "markdown",
   "source": [
    "### Collecting the data"
   ],
   "metadata": {
    "collapsed": false
   }
  },
  {
   "cell_type": "code",
   "execution_count": 168,
   "outputs": [],
   "source": [
    "train_data = datasets.MNIST(\n",
    "    root = 'data',\n",
    "    train = True,\n",
    "    transform = ToTensor(),\n",
    "    download = True,\n",
    ")\n",
    "test_data = datasets.MNIST(\n",
    "    root = 'data',\n",
    "    train = False,\n",
    "    transform = ToTensor()\n",
    ")"
   ],
   "metadata": {
    "collapsed": false
   }
  },
  {
   "cell_type": "code",
   "execution_count": 169,
   "outputs": [
    {
     "name": "stdout",
     "output_type": "stream",
     "text": [
      "shape of train data :  torch.Size([60000, 28, 28])\n",
      "shape of test data :  torch.Size([10000, 28, 28])\n",
      "shape of train labels :  torch.Size([60000])\n"
     ]
    }
   ],
   "source": [
    "print(\"shape of train data : \" , train_data.data.size())\n",
    "print(\"shape of test data : \" , test_data.data.size())\n",
    "print(\"shape of train labels : \" , train_data.targets.size())"
   ],
   "metadata": {
    "collapsed": false
   }
  },
  {
   "cell_type": "markdown",
   "source": [
    "### Preprocessing"
   ],
   "metadata": {
    "collapsed": false
   }
  },
  {
   "cell_type": "code",
   "execution_count": 170,
   "outputs": [
    {
     "data": {
      "text/plain": "{'train': <torch.utils.data.dataloader.DataLoader at 0x1496c68e0>,\n 'test': <torch.utils.data.dataloader.DataLoader at 0x1496c6520>}"
     },
     "execution_count": 170,
     "metadata": {},
     "output_type": "execute_result"
    }
   ],
   "source": [
    "from torch.utils.data import DataLoader\n",
    "loaders = {\n",
    "    'train' : torch.utils.data.DataLoader(train_data,\n",
    "                                          batch_size=128,\n",
    "                                          shuffle=True,\n",
    "                                          num_workers=1),\n",
    "\n",
    "    'test'  : torch.utils.data.DataLoader(test_data,\n",
    "                                          batch_size=128,\n",
    "                                          shuffle=True,\n",
    "                                          num_workers=1),\n",
    "}\n",
    "loaders"
   ],
   "metadata": {
    "collapsed": false
   }
  },
  {
   "cell_type": "code",
   "execution_count": 171,
   "outputs": [
    {
     "name": "stdout",
     "output_type": "stream",
     "text": [
      "tensor(5)\n"
     ]
    },
    {
     "data": {
      "text/plain": "<Figure size 640x480 with 1 Axes>",
      "image/png": "[encoded data removed]"
     },
     "metadata": {},
     "output_type": "display_data"
    }
   ],
   "source": [
    "plt.imshow(train_data.data[100],cmap='gray')\n",
    "print(train_data.targets[100])"
   ],
   "metadata": {
    "collapsed": false
   }
  },
  {
   "cell_type": "markdown",
   "source": [
    "### Building the network"
   ],
   "metadata": {
    "collapsed": false
   }
  },
  {
   "cell_type": "code",
   "execution_count": 172,
   "outputs": [],
   "source": [
    "import torch.nn as nn\n",
    "from torch.nn import Sequential,Conv2d,AvgPool2d,Flatten,Linear,Sigmoid"
   ],
   "metadata": {
    "collapsed": false
   }
  },
  {
   "cell_type": "code",
   "execution_count": 173,
   "outputs": [],
   "source": [
    "nb_epoch = 20\n",
    "\n",
    "#Define the model Sequential\n",
    "\n",
    "model = Sequential(\n",
    "    Conv2d(in_channels = 1,out_channels = 6,kernel_size = (5,5),padding = 2),\n",
    "    Sigmoid(),\n",
    "    AvgPool2d(kernel_size = (2,2),stride = 2),\n",
    "    Conv2d(in_channels = 6,out_channels = 16,kernel_size = (5,5)),\n",
    "    Sigmoid(),\n",
    "    AvgPool2d(kernel_size = (2,2),stride = 2),\n",
    "    Flatten(),\n",
    "    Linear(16*5*5,120),\n",
    "    Sigmoid(),\n",
    "    Linear(120,84),\n",
    "    Sigmoid(),\n",
    "    Linear(84,10)\n",
    ")"
   ],
   "metadata": {
    "collapsed": false
   }
  },
  {
   "cell_type": "code",
   "execution_count": 174,
   "outputs": [
    {
     "name": "stdout",
     "output_type": "stream",
     "text": [
      "Sequential(\n",
      "  (0): Conv2d(1, 6, kernel_size=(5, 5), stride=(1, 1), padding=(2, 2))\n",
      "  (1): Sigmoid()\n",
      "  (2): AvgPool2d(kernel_size=(2, 2), stride=2, padding=0)\n",
      "  (3): Conv2d(6, 16, kernel_size=(5, 5), stride=(1, 1))\n",
      "  (4): Sigmoid()\n",
      "  (5): AvgPool2d(kernel_size=(2, 2), stride=2, padding=0)\n",
      "  (6): Flatten(start_dim=1, end_dim=-1)\n",
      "  (7): Linear(in_features=400, out_features=120, bias=True)\n",
      "  (8): Sigmoid()\n",
      "  (9): Linear(in_features=120, out_features=84, bias=True)\n",
      "  (10): Sigmoid()\n",
      "  (11): Linear(in_features=84, out_features=10, bias=True)\n",
      ")\n"
     ]
    }
   ],
   "source": [
    "from torchvision import models\n",
    "from torchsummary import summary\n",
    "print(model)"
   ],
   "metadata": {
    "collapsed": false
   }
  },
  {
   "cell_type": "code",
   "execution_count": 175,
   "outputs": [
    {
     "name": "stdout",
     "output_type": "stream",
     "text": [
      "----------------------------------------------------------------\n",
      "        Layer (type)               Output Shape         Param #\n",
      "================================================================\n",
      "            Conv2d-1            [-1, 6, 28, 28]             156\n",
      "           Sigmoid-2            [-1, 6, 28, 28]               0\n",
      "         AvgPool2d-3            [-1, 6, 14, 14]               0\n",
      "            Conv2d-4           [-1, 16, 10, 10]           2,416\n",
      "           Sigmoid-5           [-1, 16, 10, 10]               0\n",
      "         AvgPool2d-6             [-1, 16, 5, 5]               0\n",
      "           Flatten-7                  [-1, 400]               0\n",
      "            Linear-8                  [-1, 120]          48,120\n",
      "           Sigmoid-9                  [-1, 120]               0\n",
      "           Linear-10                   [-1, 84]          10,164\n",
      "          Sigmoid-11                   [-1, 84]               0\n",
      "           Linear-12                   [-1, 10]             850\n",
      "================================================================\n",
      "Total params: 61,706\n",
      "Trainable params: 61,706\n",
      "Non-trainable params: 0\n",
      "----------------------------------------------------------------\n",
      "Input size (MB): 0.00\n",
      "Forward/backward pass size (MB): 0.11\n",
      "Params size (MB): 0.24\n",
      "Estimated Total Size (MB): 0.35\n",
      "----------------------------------------------------------------\n"
     ]
    }
   ],
   "source": [
    "summary(model,(1,28,28))"
   ],
   "metadata": {
    "collapsed": false
   }
  },
  {
   "cell_type": "code",
   "execution_count": 176,
   "outputs": [],
   "source": [
    "import torch.optim as optim\n",
    "\n",
    "#Define Loss function and Optimizer :\n",
    "criterion = nn.CrossEntropyLoss()\n",
    "optimizer = optim.Adam(model.parameters())"
   ],
   "metadata": {
    "collapsed": false
   }
  },
  {
   "cell_type": "code",
   "execution_count": 177,
   "outputs": [
    {
     "name": "stdout",
     "output_type": "stream",
     "text": [
      "[1,   100] loss: 2.305\n",
      "[1,   200] loss: 2.155\n",
      "[1,   300] loss: 1.235\n",
      "[1,   400] loss: 0.799\n",
      "[2,   100] loss: 0.524\n",
      "[2,   200] loss: 0.433\n",
      "[2,   300] loss: 0.358\n",
      "[2,   400] loss: 0.323\n",
      "[3,   100] loss: 0.271\n",
      "[3,   200] loss: 0.249\n",
      "[3,   300] loss: 0.237\n",
      "[3,   400] loss: 0.215\n",
      "[4,   100] loss: 0.188\n",
      "[4,   200] loss: 0.190\n",
      "[4,   300] loss: 0.169\n",
      "[4,   400] loss: 0.166\n",
      "[5,   100] loss: 0.146\n",
      "[5,   200] loss: 0.146\n",
      "[5,   300] loss: 0.144\n",
      "[5,   400] loss: 0.138\n",
      "[6,   100] loss: 0.117\n",
      "[6,   200] loss: 0.117\n",
      "[6,   300] loss: 0.126\n",
      "[6,   400] loss: 0.118\n",
      "[7,   100] loss: 0.109\n",
      "[7,   200] loss: 0.102\n",
      "[7,   300] loss: 0.102\n",
      "[7,   400] loss: 0.097\n",
      "[8,   100] loss: 0.095\n",
      "[8,   200] loss: 0.090\n",
      "[8,   300] loss: 0.087\n",
      "[8,   400] loss: 0.089\n",
      "[9,   100] loss: 0.079\n",
      "[9,   200] loss: 0.083\n",
      "[9,   300] loss: 0.080\n",
      "[9,   400] loss: 0.079\n",
      "[10,   100] loss: 0.067\n",
      "[10,   200] loss: 0.070\n",
      "[10,   300] loss: 0.073\n",
      "[10,   400] loss: 0.071\n",
      "[11,   100] loss: 0.061\n",
      "[11,   200] loss: 0.062\n",
      "[11,   300] loss: 0.068\n",
      "[11,   400] loss: 0.066\n",
      "[12,   100] loss: 0.063\n",
      "[12,   200] loss: 0.057\n",
      "[12,   300] loss: 0.058\n",
      "[12,   400] loss: 0.058\n",
      "[13,   100] loss: 0.058\n",
      "[13,   200] loss: 0.059\n",
      "[13,   300] loss: 0.050\n",
      "[13,   400] loss: 0.055\n",
      "[14,   100] loss: 0.054\n",
      "[14,   200] loss: 0.052\n",
      "[14,   300] loss: 0.050\n",
      "[14,   400] loss: 0.051\n",
      "[15,   100] loss: 0.048\n",
      "[15,   200] loss: 0.049\n",
      "[15,   300] loss: 0.054\n",
      "[15,   400] loss: 0.047\n",
      "[16,   100] loss: 0.046\n",
      "[16,   200] loss: 0.048\n",
      "[16,   300] loss: 0.043\n",
      "[16,   400] loss: 0.049\n",
      "[17,   100] loss: 0.045\n",
      "[17,   200] loss: 0.046\n",
      "[17,   300] loss: 0.044\n",
      "[17,   400] loss: 0.044\n",
      "[18,   100] loss: 0.043\n",
      "[18,   200] loss: 0.045\n",
      "[18,   300] loss: 0.038\n",
      "[18,   400] loss: 0.044\n",
      "[19,   100] loss: 0.040\n",
      "[19,   200] loss: 0.046\n",
      "[19,   300] loss: 0.035\n",
      "[19,   400] loss: 0.034\n",
      "[20,   100] loss: 0.032\n",
      "[20,   200] loss: 0.041\n",
      "[20,   300] loss: 0.033\n",
      "[20,   400] loss: 0.039\n",
      "Finished Training\n"
     ]
    }
   ],
   "source": [
    "from torch.autograd import Variable\n",
    "from tqdm import tqdm\n",
    "num_epochs = 10\n",
    "\n",
    "#Train the model:\n",
    "\n",
    "def train(num_epochs, cnn, loaders):\n",
    "    loss_value = np.zeros((20,2))\n",
    "    for epoch in range(num_epochs):  # loop over the dataset multiple times\n",
    "        running_loss = 0.0\n",
    "        for i, data in enumerate(loaders['train'], 0):\n",
    "            # get the inputs; data is a list of [inputs, labels]\n",
    "            inputs, labels = data\n",
    "\n",
    "            # zero the parameter gradients\n",
    "            optimizer.zero_grad()\n",
    "\n",
    "            # forward + backward + optimize\n",
    "            outputs = cnn(inputs)\n",
    "            loss = criterion(outputs, labels)\n",
    "            loss.backward()\n",
    "            optimizer.step()\n",
    "\n",
    "            # print statistics\n",
    "            running_loss += loss.item()\n",
    "            if (i+1) % 100 == 0:    # print every 100 mini-batches\n",
    "                print(f'[{epoch + 1}, {i + 1:5d}] loss: {running_loss / 100:.3f}')\n",
    "                running_loss = 0.0\n",
    "        loss_value[epoch] = [epoch,loss.item()]\n",
    "    print('Finished Training')\n",
    "    return loss_value\n",
    "loss_value  = train(nb_epoch,model, loaders)"
   ],
   "metadata": {
    "collapsed": false
   }
  },
  {
   "cell_type": "code",
   "execution_count": 178,
   "outputs": [
    {
     "name": "stdout",
     "output_type": "stream",
     "text": [
      "Accuracy of the network on the 10000 test images: 98.31 %\n"
     ]
    }
   ],
   "source": [
    "#Test the model:\n",
    "\n",
    "def test(cnn,loaders):\n",
    "    correct = 0\n",
    "    total = 0\n",
    "    # since we're not training, we don't need to calculate the gradients for our outputs\n",
    "    with torch.no_grad():\n",
    "        for data in loaders['test']:\n",
    "            images, labels = data\n",
    "            # calculate outputs by running images through the network\n",
    "            outputs = cnn(images)\n",
    "            # the class with the highest energy is what we choose as prediction\n",
    "            _, predicted = torch.max(outputs.data, 1)\n",
    "            total += labels.size(0)\n",
    "            correct += (predicted == labels).sum().item()\n",
    "\n",
    "    print(f'Accuracy of the network on the 10000 test images: {100 * correct / total} %')\n",
    "test(model,loaders)"
   ],
   "metadata": {
    "collapsed": false
   }
  },
  {
   "cell_type": "code",
   "execution_count": 184,
   "outputs": [
    {
     "data": {
      "text/plain": "<Figure size 640x480 with 1 Axes>",
      "image/png": "[encoded data removed]"
     },
     "metadata": {},
     "output_type": "display_data"
    }
   ],
   "source": [
    "#Plot the loss\n",
    "plt.plot(loss_value[:,0],loss_value[:,1])\n",
    "plt.xlabel(\"Epochs\")\n",
    "plt.ylabel(\"Crossentropy loss\")\n",
    "plt.show()"
   ],
   "metadata": {
    "collapsed": false
   }
  },
  {
   "cell_type": "markdown",
   "source": [
    "# II. Second step: Simple Convolutionnal Neural Network on more complex data."
   ],
   "metadata": {
    "collapsed": false
   },
   "execution_count": 179
  },
  {
   "cell_type": "code",
   "execution_count": null,
   "outputs": [],
   "source": [],
   "metadata": {
    "collapsed": false
   }
  }
 ],
 "metadata": {
  "kernelspec": {
   "display_name": "Python 3",
   "language": "python",
   "name": "python3"
  },
  "language_info": {
   "codemirror_mode": {
    "name": "ipython",
    "version": 2
   },
   "file_extension": ".py",
   "mimetype": "text/x-python",
   "name": "python",
   "nbconvert_exporter": "python",
   "pygments_lexer": "ipython2",
   "version": "2.7.6"
  }
 },
 "nbformat": 4,
 "nbformat_minor": 0
}
